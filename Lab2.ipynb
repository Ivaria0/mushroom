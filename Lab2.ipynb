{
 "cells": [
  {
   "cell_type": "markdown",
   "id": "131cfdf4",
   "metadata": {},
   "source": [
    "# Пункт 1\n",
    "Загружаем Mushroom из репозитория и выбираем признаки cap_shape, cap_surface, cap_color, bruises, odor."
   ]
  },
  {
   "cell_type": "code",
   "execution_count": 1,
   "id": "0a474b00",
   "metadata": {},
   "outputs": [
    {
     "data": {
      "text/html": [
       "<div>\n",
       "<style scoped>\n",
       "    .dataframe tbody tr th:only-of-type {\n",
       "        vertical-align: middle;\n",
       "    }\n",
       "\n",
       "    .dataframe tbody tr th {\n",
       "        vertical-align: top;\n",
       "    }\n",
       "\n",
       "    .dataframe thead th {\n",
       "        text-align: right;\n",
       "    }\n",
       "</style>\n",
       "<table border=\"1\" class=\"dataframe\">\n",
       "  <thead>\n",
       "    <tr style=\"text-align: right;\">\n",
       "      <th></th>\n",
       "      <th>class</th>\n",
       "      <th>cap_shape</th>\n",
       "      <th>cap_surface</th>\n",
       "      <th>cap_color</th>\n",
       "      <th>bruises</th>\n",
       "      <th>odor</th>\n",
       "    </tr>\n",
       "  </thead>\n",
       "  <tbody>\n",
       "    <tr>\n",
       "      <th>8119</th>\n",
       "      <td>e</td>\n",
       "      <td>k</td>\n",
       "      <td>s</td>\n",
       "      <td>n</td>\n",
       "      <td>f</td>\n",
       "      <td>n</td>\n",
       "    </tr>\n",
       "    <tr>\n",
       "      <th>8120</th>\n",
       "      <td>e</td>\n",
       "      <td>x</td>\n",
       "      <td>s</td>\n",
       "      <td>n</td>\n",
       "      <td>f</td>\n",
       "      <td>n</td>\n",
       "    </tr>\n",
       "    <tr>\n",
       "      <th>8121</th>\n",
       "      <td>e</td>\n",
       "      <td>f</td>\n",
       "      <td>s</td>\n",
       "      <td>n</td>\n",
       "      <td>f</td>\n",
       "      <td>n</td>\n",
       "    </tr>\n",
       "    <tr>\n",
       "      <th>8122</th>\n",
       "      <td>p</td>\n",
       "      <td>k</td>\n",
       "      <td>y</td>\n",
       "      <td>n</td>\n",
       "      <td>f</td>\n",
       "      <td>y</td>\n",
       "    </tr>\n",
       "    <tr>\n",
       "      <th>8123</th>\n",
       "      <td>e</td>\n",
       "      <td>x</td>\n",
       "      <td>s</td>\n",
       "      <td>n</td>\n",
       "      <td>f</td>\n",
       "      <td>n</td>\n",
       "    </tr>\n",
       "  </tbody>\n",
       "</table>\n",
       "</div>"
      ],
      "text/plain": [
       "     class cap_shape cap_surface cap_color bruises odor\n",
       "8119     e         k           s         n       f    n\n",
       "8120     e         x           s         n       f    n\n",
       "8121     e         f           s         n       f    n\n",
       "8122     p         k           y         n       f    y\n",
       "8123     e         x           s         n       f    n"
      ]
     },
     "execution_count": 1,
     "metadata": {},
     "output_type": "execute_result"
    }
   ],
   "source": [
    "import pandas as pd\n",
    "\n",
    "url = 'https://archive.ics.uci.edu/ml/machine-learning-databases/mushroom/agaricus-lepiota.data'\n",
    "mush_fall = pd.read_csv(url, names=['class', 'cap_shape', 'cap_surface',\n",
    "'cap_color', 'bruises', 'odor', 'gill_attachment',\n",
    "'gill_spacing', 'gill_size', 'gill_color', 'stalk_shape',\n",
    "'stalk_root', 'stalk_surface_above_ring',\n",
    "'stalk_surface_below_ring', 'stalk_color_above_ring',\n",
    "'stalk_color_below_ring', 'veil_type', 'veil_color',\n",
    "'ring_number', 'ring_type', 'spore_print_color',\n",
    "'population', 'habitat'])\n",
    "mush_f = mush_fall[['class', 'cap_shape', 'cap_surface', 'cap_color', 'bruises', 'odor']]\n",
    "mush_f.tail()"
   ]
  },
  {
   "cell_type": "markdown",
   "id": "b7f9c4ca",
   "metadata": {},
   "source": [
    "## Распределения значений категориальных признаков по классам\n",
    "### Распределение cap_shape по классам edible и poisonous"
   ]
  },
  {
   "cell_type": "code",
   "execution_count": 2,
   "id": "16ee24ce",
   "metadata": {},
   "outputs": [
    {
     "data": {
      "text/html": [
       "<div>\n",
       "<style scoped>\n",
       "    .dataframe tbody tr th:only-of-type {\n",
       "        vertical-align: middle;\n",
       "    }\n",
       "\n",
       "    .dataframe tbody tr th {\n",
       "        vertical-align: top;\n",
       "    }\n",
       "\n",
       "    .dataframe thead th {\n",
       "        text-align: right;\n",
       "    }\n",
       "</style>\n",
       "<table border=\"1\" class=\"dataframe\">\n",
       "  <thead>\n",
       "    <tr style=\"text-align: right;\">\n",
       "      <th></th>\n",
       "      <th>edible</th>\n",
       "      <th>poisonous</th>\n",
       "    </tr>\n",
       "  </thead>\n",
       "  <tbody>\n",
       "    <tr>\n",
       "      <th>x</th>\n",
       "      <td>1948.0</td>\n",
       "      <td>1708.0</td>\n",
       "    </tr>\n",
       "    <tr>\n",
       "      <th>f</th>\n",
       "      <td>1596.0</td>\n",
       "      <td>1556.0</td>\n",
       "    </tr>\n",
       "    <tr>\n",
       "      <th>b</th>\n",
       "      <td>404.0</td>\n",
       "      <td>48.0</td>\n",
       "    </tr>\n",
       "    <tr>\n",
       "      <th>k</th>\n",
       "      <td>228.0</td>\n",
       "      <td>600.0</td>\n",
       "    </tr>\n",
       "    <tr>\n",
       "      <th>s</th>\n",
       "      <td>32.0</td>\n",
       "      <td>NaN</td>\n",
       "    </tr>\n",
       "    <tr>\n",
       "      <th>c</th>\n",
       "      <td>NaN</td>\n",
       "      <td>4.0</td>\n",
       "    </tr>\n",
       "  </tbody>\n",
       "</table>\n",
       "</div>"
      ],
      "text/plain": [
       "   edible  poisonous\n",
       "x  1948.0     1708.0\n",
       "f  1596.0     1556.0\n",
       "b   404.0       48.0\n",
       "k   228.0      600.0\n",
       "s    32.0        NaN\n",
       "c     NaN        4.0"
      ]
     },
     "execution_count": 2,
     "metadata": {},
     "output_type": "execute_result"
    }
   ],
   "source": [
    "import seaborn as sns \n",
    "import matplotlib.pyplot as plt \n",
    "\n",
    "mush_fe = mush_f[mush_f['class'] == 'e']\n",
    "mush_fp = mush_f[mush_f['class'] == 'p']\n",
    "c_shape_e = mush_fe['cap_shape'].value_counts()\n",
    "c_shape_p = mush_fp['cap_shape'].value_counts()\n",
    "\n",
    "cshe = pd.DataFrame(c_shape_e)\n",
    "cshe.rename(columns={'cap_shape': 'edible'}, inplace=True)\n",
    "cshp = pd.DataFrame(c_shape_p)\n",
    "cshp.rename(columns={'cap_shape': 'poisonous'}, inplace=True)\n",
    "pd.concat((cshe, cshp), axis=1)"
   ]
  },
  {
   "cell_type": "markdown",
   "id": "ab96f377",
   "metadata": {},
   "source": [
    "### Визуализация распределения cap_shape"
   ]
  },
  {
   "cell_type": "code",
   "execution_count": 3,
   "id": "b4a02a68",
   "metadata": {},
   "outputs": [
    {
     "data": {
      "text/plain": [
       "Text(0.5, 1.0, 'Distribution of cap_shape for poisonous mushrooms')"
      ]
     },
     "execution_count": 3,
     "metadata": {},
     "output_type": "execute_result"
    },
    {
     "data": {
      "image/png": "[encoded data removed]",
      "text/plain": [
       "<Figure size 720x360 with 2 Axes>"
      ]
     },
     "metadata": {
      "needs_background": "light"
     },
     "output_type": "display_data"
    }
   ],
   "source": [
    "figure, axis = plt.subplots(1, 2)\n",
    "plt.subplots_adjust(wspace=0.4, hspace=0.4)\n",
    "figure.set_size_inches(10, 5)\n",
    "axis[0].bar(c_shape_e.index, c_shape_e.values)\n",
    "axis[0].set_ylabel('Count', fontsize=12)\n",
    "axis[0].set_xlabel('Value of cap_shape', fontsize=12)\n",
    "axis[0].set_title('Distribution of cap_shape for edible mushrooms')\n",
    "axis[1].bar(c_shape_p.index, c_shape_p.values)\n",
    "axis[1].set_ylabel('Count', fontsize=12)\n",
    "axis[1].set_xlabel('Value of cap_shape', fontsize=12)\n",
    "axis[1].set_title('Distribution of cap_shape for poisonous mushrooms')"
   ]
  },
  {
   "cell_type": "markdown",
   "id": "8116eb15",
   "metadata": {},
   "source": [
    "### Распределение cap_surface по классам edible и poisonous"
   ]
  },
  {
   "cell_type": "code",
   "execution_count": 4,
   "id": "575d1dd5",
   "metadata": {},
   "outputs": [
    {
     "data": {
      "text/html": [
       "<div>\n",
       "<style scoped>\n",
       "    .dataframe tbody tr th:only-of-type {\n",
       "        vertical-align: middle;\n",
       "    }\n",
       "\n",
       "    .dataframe tbody tr th {\n",
       "        vertical-align: top;\n",
       "    }\n",
       "\n",
       "    .dataframe thead th {\n",
       "        text-align: right;\n",
       "    }\n",
       "</style>\n",
       "<table border=\"1\" class=\"dataframe\">\n",
       "  <thead>\n",
       "    <tr style=\"text-align: right;\">\n",
       "      <th></th>\n",
       "      <th>edible</th>\n",
       "      <th>poisonous</th>\n",
       "    </tr>\n",
       "  </thead>\n",
       "  <tbody>\n",
       "    <tr>\n",
       "      <th>f</th>\n",
       "      <td>1560.0</td>\n",
       "      <td>760</td>\n",
       "    </tr>\n",
       "    <tr>\n",
       "      <th>y</th>\n",
       "      <td>1504.0</td>\n",
       "      <td>1740</td>\n",
       "    </tr>\n",
       "    <tr>\n",
       "      <th>s</th>\n",
       "      <td>1144.0</td>\n",
       "      <td>1412</td>\n",
       "    </tr>\n",
       "    <tr>\n",
       "      <th>g</th>\n",
       "      <td>NaN</td>\n",
       "      <td>4</td>\n",
       "    </tr>\n",
       "  </tbody>\n",
       "</table>\n",
       "</div>"
      ],
      "text/plain": [
       "   edible  poisonous\n",
       "f  1560.0        760\n",
       "y  1504.0       1740\n",
       "s  1144.0       1412\n",
       "g     NaN          4"
      ]
     },
     "execution_count": 4,
     "metadata": {},
     "output_type": "execute_result"
    }
   ],
   "source": [
    "c_surface_e = mush_fe['cap_surface'].value_counts()\n",
    "c_surface_p = mush_fp['cap_surface'].value_counts()\n",
    "\n",
    "csfe = pd.DataFrame(c_surface_e)\n",
    "csfe.rename(columns={'cap_surface': 'edible'}, inplace=True)\n",
    "csfp = pd.DataFrame(c_surface_p)\n",
    "csfp.rename(columns={'cap_surface': 'poisonous'}, inplace=True)\n",
    "pd.concat((csfe, csfp), axis=1)"
   ]
  },
  {
   "cell_type": "markdown",
   "id": "34c5c309",
   "metadata": {},
   "source": [
    "### Визуализация распределения cap_surface"
   ]
  },
  {
   "cell_type": "code",
   "execution_count": 5,
   "id": "8532f932",
   "metadata": {},
   "outputs": [
    {
     "data": {
      "text/plain": [
       "Text(0.5, 1.0, 'Distribution of cap_surface for poisonous mushrooms')"
      ]
     },
     "execution_count": 5,
     "metadata": {},
     "output_type": "execute_result"
    },
    {
     "data": {
      "image/png": "[encoded data removed]",
      "text/plain": [
       "<Figure size 720x360 with 2 Axes>"
      ]
     },
     "metadata": {
      "needs_background": "light"
     },
     "output_type": "display_data"
    }
   ],
   "source": [
    "figure, axis = plt.subplots(1, 2)\n",
    "plt.subplots_adjust(wspace=0.4, hspace=0.4)\n",
    "figure.set_size_inches(10, 5)\n",
    "axis[0].bar(c_surface_e.index, c_surface_e.values)\n",
    "axis[0].set_ylabel('Count', fontsize=12)\n",
    "axis[0].set_xlabel('Value of cap_surface', fontsize=12)\n",
    "axis[0].set_title('Distribution of cap_surface for edible mushrooms')\n",
    "axis[1].bar(c_surface_p.index, c_surface_p.values)\n",
    "axis[1].set_ylabel('Count', fontsize=12)\n",
    "axis[1].set_xlabel('Value of cap_surface', fontsize=12)\n",
    "axis[1].set_title('Distribution of cap_surface for poisonous mushrooms')"
   ]
  },
  {
   "cell_type": "markdown",
   "id": "35026579",
   "metadata": {},
   "source": [
    "### Распределение cap_color по классам edible и poisonous"
   ]
  },
  {
   "cell_type": "code",
   "execution_count": 6,
   "id": "db90b6c6",
   "metadata": {},
   "outputs": [
    {
     "data": {
      "text/html": [
       "<div>\n",
       "<style scoped>\n",
       "    .dataframe tbody tr th:only-of-type {\n",
       "        vertical-align: middle;\n",
       "    }\n",
       "\n",
       "    .dataframe tbody tr th {\n",
       "        vertical-align: top;\n",
       "    }\n",
       "\n",
       "    .dataframe thead th {\n",
       "        text-align: right;\n",
       "    }\n",
       "</style>\n",
       "<table border=\"1\" class=\"dataframe\">\n",
       "  <thead>\n",
       "    <tr style=\"text-align: right;\">\n",
       "      <th></th>\n",
       "      <th>edible</th>\n",
       "      <th>poisonous</th>\n",
       "    </tr>\n",
       "  </thead>\n",
       "  <tbody>\n",
       "    <tr>\n",
       "      <th>n</th>\n",
       "      <td>1264</td>\n",
       "      <td>1020.0</td>\n",
       "    </tr>\n",
       "    <tr>\n",
       "      <th>g</th>\n",
       "      <td>1032</td>\n",
       "      <td>808.0</td>\n",
       "    </tr>\n",
       "    <tr>\n",
       "      <th>w</th>\n",
       "      <td>720</td>\n",
       "      <td>320.0</td>\n",
       "    </tr>\n",
       "    <tr>\n",
       "      <th>e</th>\n",
       "      <td>624</td>\n",
       "      <td>876.0</td>\n",
       "    </tr>\n",
       "    <tr>\n",
       "      <th>y</th>\n",
       "      <td>400</td>\n",
       "      <td>672.0</td>\n",
       "    </tr>\n",
       "    <tr>\n",
       "      <th>p</th>\n",
       "      <td>56</td>\n",
       "      <td>88.0</td>\n",
       "    </tr>\n",
       "    <tr>\n",
       "      <th>b</th>\n",
       "      <td>48</td>\n",
       "      <td>120.0</td>\n",
       "    </tr>\n",
       "    <tr>\n",
       "      <th>c</th>\n",
       "      <td>32</td>\n",
       "      <td>12.0</td>\n",
       "    </tr>\n",
       "    <tr>\n",
       "      <th>u</th>\n",
       "      <td>16</td>\n",
       "      <td>NaN</td>\n",
       "    </tr>\n",
       "    <tr>\n",
       "      <th>r</th>\n",
       "      <td>16</td>\n",
       "      <td>NaN</td>\n",
       "    </tr>\n",
       "  </tbody>\n",
       "</table>\n",
       "</div>"
      ],
      "text/plain": [
       "   edible  poisonous\n",
       "n    1264     1020.0\n",
       "g    1032      808.0\n",
       "w     720      320.0\n",
       "e     624      876.0\n",
       "y     400      672.0\n",
       "p      56       88.0\n",
       "b      48      120.0\n",
       "c      32       12.0\n",
       "u      16        NaN\n",
       "r      16        NaN"
      ]
     },
     "execution_count": 6,
     "metadata": {},
     "output_type": "execute_result"
    }
   ],
   "source": [
    "c_color_e = mush_fe['cap_color'].value_counts()\n",
    "c_color_p = mush_fp['cap_color'].value_counts()\n",
    "\n",
    "cce = pd.DataFrame(c_color_e)\n",
    "cce.rename(columns={'cap_color': 'edible'}, inplace=True)\n",
    "ccp = pd.DataFrame(c_color_p)\n",
    "ccp.rename(columns={'cap_color': 'poisonous'}, inplace=True)\n",
    "pd.concat((cce, ccp), axis=1)"
   ]
  },
  {
   "cell_type": "markdown",
   "id": "d759ca55",
   "metadata": {},
   "source": [
    "### Визуализация распределения cap_color"
   ]
  },
  {
   "cell_type": "code",
   "execution_count": 7,
   "id": "5180dc3c",
   "metadata": {},
   "outputs": [
    {
     "data": {
      "text/plain": [
       "Text(0.5, 1.0, 'Distribution of cap_color for poisonous mushrooms')"
      ]
     },
     "execution_count": 7,
     "metadata": {},
     "output_type": "execute_result"
    },
    {
     "data": {
      "image/png": "[encoded data removed]",
      "text/plain": [
       "<Figure size 720x360 with 2 Axes>"
      ]
     },
     "metadata": {
      "needs_background": "light"
     },
     "output_type": "display_data"
    }
   ],
   "source": [
    "figure, axis = plt.subplots(1, 2)\n",
    "plt.subplots_adjust(wspace=0.4, hspace=0.4)\n",
    "figure.set_size_inches(10, 5)\n",
    "axis[0].bar(c_color_e.index, c_color_e.values)\n",
    "axis[0].set_ylabel('Count', fontsize=12)\n",
    "axis[0].set_xlabel('Value of cap_color', fontsize=12)\n",
    "axis[0].set_title('Distribution of cap_color for edible mushrooms')\n",
    "axis[1].bar(c_color_p.index, c_color_p.values)\n",
    "axis[1].set_ylabel('Count', fontsize=12)\n",
    "axis[1].set_xlabel('Value of cap_color', fontsize=12)\n",
    "axis[1].set_title('Distribution of cap_color for poisonous mushrooms')"
   ]
  },
  {
   "cell_type": "markdown",
   "id": "44036a0b",
   "metadata": {},
   "source": [
    "### Распределение bruises по классам edible и poisonous"
   ]
  },
  {
   "cell_type": "code",
   "execution_count": 8,
   "id": "cca5cd53",
   "metadata": {},
   "outputs": [
    {
     "data": {
      "text/html": [
       "<div>\n",
       "<style scoped>\n",
       "    .dataframe tbody tr th:only-of-type {\n",
       "        vertical-align: middle;\n",
       "    }\n",
       "\n",
       "    .dataframe tbody tr th {\n",
       "        vertical-align: top;\n",
       "    }\n",
       "\n",
       "    .dataframe thead th {\n",
       "        text-align: right;\n",
       "    }\n",
       "</style>\n",
       "<table border=\"1\" class=\"dataframe\">\n",
       "  <thead>\n",
       "    <tr style=\"text-align: right;\">\n",
       "      <th></th>\n",
       "      <th>edible</th>\n",
       "      <th>poisonous</th>\n",
       "    </tr>\n",
       "  </thead>\n",
       "  <tbody>\n",
       "    <tr>\n",
       "      <th>t</th>\n",
       "      <td>2752</td>\n",
       "      <td>624</td>\n",
       "    </tr>\n",
       "    <tr>\n",
       "      <th>f</th>\n",
       "      <td>1456</td>\n",
       "      <td>3292</td>\n",
       "    </tr>\n",
       "  </tbody>\n",
       "</table>\n",
       "</div>"
      ],
      "text/plain": [
       "   edible  poisonous\n",
       "t    2752        624\n",
       "f    1456       3292"
      ]
     },
     "execution_count": 8,
     "metadata": {},
     "output_type": "execute_result"
    }
   ],
   "source": [
    "bruises_e = mush_fe['bruises'].value_counts()\n",
    "bruises_p = mush_fp['bruises'].value_counts()\n",
    "\n",
    "bre = pd.DataFrame(bruises_e)\n",
    "bre.rename(columns={'bruises': 'edible'}, inplace=True)\n",
    "brp = pd.DataFrame(bruises_p)\n",
    "brp.rename(columns={'bruises': 'poisonous'}, inplace=True)\n",
    "pd.concat((bre, brp), axis=1)"
   ]
  },
  {
   "cell_type": "markdown",
   "id": "dea578ac",
   "metadata": {},
   "source": [
    "### Визуализация распределения bruises"
   ]
  },
  {
   "cell_type": "code",
   "execution_count": 9,
   "id": "45df88f8",
   "metadata": {},
   "outputs": [
    {
     "data": {
      "text/plain": [
       "Text(0.5, 1.0, 'Distribution of bruises for poisonous mushrooms')"
      ]
     },
     "execution_count": 9,
     "metadata": {},
     "output_type": "execute_result"
    },
    {
     "data": {
      "image/png": "[encoded data removed]",
      "text/plain": [
       "<Figure size 720x360 with 2 Axes>"
      ]
     },
     "metadata": {
      "needs_background": "light"
     },
     "output_type": "display_data"
    }
   ],
   "source": [
    "figure, axis = plt.subplots(1, 2)\n",
    "plt.subplots_adjust(wspace=0.4, hspace=0.4)\n",
    "figure.set_size_inches(10, 5)\n",
    "axis[0].bar(bruises_e.index, bruises_e.values)\n",
    "axis[0].set_ylabel('Count', fontsize=12)\n",
    "axis[0].set_xlabel('Value of bruises', fontsize=12)\n",
    "axis[0].set_title('Distribution of bruises for edible mushrooms')\n",
    "axis[1].bar(bruises_p.index, bruises_p.values)\n",
    "axis[1].set_ylabel('Count', fontsize=12)\n",
    "axis[1].set_xlabel('Value of bruises', fontsize=12)\n",
    "axis[1].set_title('Distribution of bruises for poisonous mushrooms')"
   ]
  },
  {
   "cell_type": "markdown",
   "id": "c6aad8e7",
   "metadata": {},
   "source": [
    "### Распределение odor по классам edible и poisonous"
   ]
  },
  {
   "cell_type": "code",
   "execution_count": 10,
   "id": "2cec5f9b",
   "metadata": {},
   "outputs": [
    {
     "data": {
      "text/html": [
       "<div>\n",
       "<style scoped>\n",
       "    .dataframe tbody tr th:only-of-type {\n",
       "        vertical-align: middle;\n",
       "    }\n",
       "\n",
       "    .dataframe tbody tr th {\n",
       "        vertical-align: top;\n",
       "    }\n",
       "\n",
       "    .dataframe thead th {\n",
       "        text-align: right;\n",
       "    }\n",
       "</style>\n",
       "<table border=\"1\" class=\"dataframe\">\n",
       "  <thead>\n",
       "    <tr style=\"text-align: right;\">\n",
       "      <th></th>\n",
       "      <th>edible</th>\n",
       "      <th>poisonous</th>\n",
       "    </tr>\n",
       "  </thead>\n",
       "  <tbody>\n",
       "    <tr>\n",
       "      <th>n</th>\n",
       "      <td>3408.0</td>\n",
       "      <td>120.0</td>\n",
       "    </tr>\n",
       "    <tr>\n",
       "      <th>a</th>\n",
       "      <td>400.0</td>\n",
       "      <td>NaN</td>\n",
       "    </tr>\n",
       "    <tr>\n",
       "      <th>l</th>\n",
       "      <td>400.0</td>\n",
       "      <td>NaN</td>\n",
       "    </tr>\n",
       "    <tr>\n",
       "      <th>f</th>\n",
       "      <td>NaN</td>\n",
       "      <td>2160.0</td>\n",
       "    </tr>\n",
       "    <tr>\n",
       "      <th>y</th>\n",
       "      <td>NaN</td>\n",
       "      <td>576.0</td>\n",
       "    </tr>\n",
       "    <tr>\n",
       "      <th>s</th>\n",
       "      <td>NaN</td>\n",
       "      <td>576.0</td>\n",
       "    </tr>\n",
       "    <tr>\n",
       "      <th>p</th>\n",
       "      <td>NaN</td>\n",
       "      <td>256.0</td>\n",
       "    </tr>\n",
       "    <tr>\n",
       "      <th>c</th>\n",
       "      <td>NaN</td>\n",
       "      <td>192.0</td>\n",
       "    </tr>\n",
       "    <tr>\n",
       "      <th>m</th>\n",
       "      <td>NaN</td>\n",
       "      <td>36.0</td>\n",
       "    </tr>\n",
       "  </tbody>\n",
       "</table>\n",
       "</div>"
      ],
      "text/plain": [
       "   edible  poisonous\n",
       "n  3408.0      120.0\n",
       "a   400.0        NaN\n",
       "l   400.0        NaN\n",
       "f     NaN     2160.0\n",
       "y     NaN      576.0\n",
       "s     NaN      576.0\n",
       "p     NaN      256.0\n",
       "c     NaN      192.0\n",
       "m     NaN       36.0"
      ]
     },
     "execution_count": 10,
     "metadata": {},
     "output_type": "execute_result"
    }
   ],
   "source": [
    "odor_e = mush_fe['odor'].value_counts()\n",
    "odor_p = mush_fp['odor'].value_counts()\n",
    "\n",
    "ode = pd.DataFrame(odor_e)\n",
    "ode.rename(columns={'odor': 'edible'}, inplace=True)\n",
    "odp = pd.DataFrame(odor_p)\n",
    "odp.rename(columns={'odor': 'poisonous'}, inplace=True)\n",
    "pd.concat((ode, odp), axis=1)"
   ]
  },
  {
   "cell_type": "markdown",
   "id": "5992dedd",
   "metadata": {},
   "source": [
    "### Визуализация распределения odor"
   ]
  },
  {
   "cell_type": "code",
   "execution_count": 11,
   "id": "0a868a96",
   "metadata": {},
   "outputs": [
    {
     "data": {
      "text/plain": [
       "Text(0.5, 1.0, 'Distribution of odor for poisonous mushrooms')"
      ]
     },
     "execution_count": 11,
     "metadata": {},
     "output_type": "execute_result"
    },
    {
     "data": {
      "image/png": "[encoded data removed]",
      "text/plain": [
       "<Figure size 720x360 with 2 Axes>"
      ]
     },
     "metadata": {
      "needs_background": "light"
     },
     "output_type": "display_data"
    }
   ],
   "source": [
    "figure, axis = plt.subplots(1, 2)\n",
    "plt.subplots_adjust(wspace=0.4, hspace=0.4)\n",
    "figure.set_size_inches(10, 5)\n",
    "axis[0].bar(odor_e.index, odor_e.values)\n",
    "axis[0].set_ylabel('Count', fontsize=12)\n",
    "axis[0].set_xlabel('Value of odor', fontsize=12)\n",
    "axis[0].set_title('Distribution of odor for edible mushrooms')\n",
    "axis[1].bar(odor_p.index, odor_p.values)\n",
    "axis[1].set_ylabel('Count', fontsize=12)\n",
    "axis[1].set_xlabel('Value of odor', fontsize=12)\n",
    "axis[1].set_title('Distribution of odor for poisonous mushrooms')"
   ]
  },
  {
   "cell_type": "markdown",
   "id": "e84575ae",
   "metadata": {},
   "source": [
    "### Разбиение данных на обучающую и контрольную выборки"
   ]
  },
  {
   "cell_type": "code",
   "execution_count": 12,
   "id": "9d0a6243",
   "metadata": {},
   "outputs": [
    {
     "data": {
      "text/plain": [
       "(1625, 5)"
      ]
     },
     "execution_count": 12,
     "metadata": {},
     "output_type": "execute_result"
    }
   ],
   "source": [
    "from sklearn.model_selection import train_test_split\n",
    "\n",
    "X = mush_f.iloc[:, 1:6]\n",
    "y = mush_f.iloc[:, 0]\n",
    "X_train1, X_test1, y_train1, y_test1 = train_test_split(X, y, test_size=0.2)\n",
    "X_test1.shape"
   ]
  },
  {
   "cell_type": "markdown",
   "id": "5f526260",
   "metadata": {},
   "source": [
    "# Пункт 2\n",
    "## Определим решающую функцию на основе частот"
   ]
  },
  {
   "cell_type": "code",
   "execution_count": 13,
   "id": "0e9b80f2",
   "metadata": {},
   "outputs": [],
   "source": [
    "import numpy as np\n",
    "\n",
    "def dec_fit(X_train, y_train, param):\n",
    "    train = pd.concat((X_train, y_train), axis=1)\n",
    "    train_e = train[train['class'] == 'e']\n",
    "    train_p = train[train['class'] == 'p']\n",
    "    p1 = train_e.shape[0] / train.shape[0]\n",
    "    p2 = train_p.shape[0] / train.shape[0]\n",
    "    y_p = np.zeros_like(train[param].unique())\n",
    "    k = 0\n",
    "\n",
    "    for x in train[param].unique():\n",
    "        if x in train_e[param].unique():\n",
    "            x_e = train_e[param].value_counts()[x]\n",
    "            p1x = x_e / train_e.shape[0]\n",
    "        else:\n",
    "            p1x = 0\n",
    "        if x in train_p[param].unique():\n",
    "            x_p = train_p[param].value_counts()[x]\n",
    "            p2x = x_p / train_p.shape[0]\n",
    "        else:\n",
    "            p2x = 0\n",
    "        if p1 * p1x >= p2 * p2x:\n",
    "            y_p[k] = 'e'\n",
    "        else:\n",
    "            y_p[k] = 'p'\n",
    "        k += 1\n",
    "        t = np.concatenate((train[param].unique(), y_p))\n",
    "    return t.reshape(2, -1)\n",
    "\n",
    "def dec_predict(X, xs, param):\n",
    "    for i in range(xs.shape[1]):\n",
    "        y_p = X.iloc[:, 0]\n",
    "        inds = X[X[param] == xs[0, i]].index\n",
    "        for ind in inds:\n",
    "            y_p[ind] = xs[1, i]\n",
    "    return y_p"
   ]
  },
  {
   "cell_type": "markdown",
   "id": "1046375d",
   "metadata": {},
   "source": [
    "## Построение решающей функции для cap_shape и сравнение точности"
   ]
  },
  {
   "cell_type": "code",
   "execution_count": 14,
   "id": "8b396c22",
   "metadata": {},
   "outputs": [
    {
     "name": "stdout",
     "output_type": "stream",
     "text": [
      "Train accuracy:  0.563009693799046\n",
      "Test accuracy:  0.5692307692307692\n"
     ]
    }
   ],
   "source": [
    "xs = dec_fit(X_train1, y_train1, 'cap_shape')\n",
    "y_ptr = dec_predict(X_train1, xs, 'cap_shape')\n",
    "acc1 = 0\n",
    "for i in y_train1.index:\n",
    "    if y_ptr[i] == y_train1[i]:\n",
    "        acc1 += 1\n",
    "acc1 /= y_train1.size\n",
    "\n",
    "y_ptest = dec_predict(X_test1, xs, 'cap_shape')\n",
    "acc2 = 0\n",
    "for i in y_test1.index:\n",
    "    if y_ptest[i] == y_test1[i]:\n",
    "        acc2 += 1\n",
    "acc2 /= y_test1.size\n",
    "\n",
    "print('Train accuracy: ', acc1)\n",
    "print('Test accuracy: ', acc2)"
   ]
  },
  {
   "cell_type": "markdown",
   "id": "b045b633",
   "metadata": {},
   "source": [
    "## Построение решающей функции для cap_surface и сравнение точности"
   ]
  },
  {
   "cell_type": "code",
   "execution_count": 15,
   "id": "f4fa63dc",
   "metadata": {},
   "outputs": [
    {
     "name": "stdout",
     "output_type": "stream",
     "text": [
      "Train accuracy:  0.5810124634559163\n",
      "Test accuracy:  0.5784615384615385\n"
     ]
    }
   ],
   "source": [
    "xs = dec_fit(X_train1, y_train1, 'cap_surface')\n",
    "y_ptr = dec_predict(X_train1, xs, 'cap_surface')\n",
    "acc1 = 0\n",
    "for i in y_train1.index:\n",
    "    if y_ptr[i] == y_train1[i]:\n",
    "        acc1 += 1\n",
    "acc1 /= y_train1.size\n",
    "\n",
    "y_ptest = dec_predict(X_test1, xs, 'cap_surface')\n",
    "acc2 = 0\n",
    "for i in y_test1.index:\n",
    "    if y_ptest[i] == y_test1[i]:\n",
    "        acc2 += 1\n",
    "acc2 /= y_test1.size\n",
    "\n",
    "print('Train accuracy: ', acc1)\n",
    "print('Test accuracy: ', acc2)"
   ]
  },
  {
   "cell_type": "markdown",
   "id": "cc1c615e",
   "metadata": {},
   "source": [
    "## Построение решающей функции для cap_color и сравнение точности"
   ]
  },
  {
   "cell_type": "code",
   "execution_count": 16,
   "id": "3dae1dd0",
   "metadata": {},
   "outputs": [
    {
     "name": "stdout",
     "output_type": "stream",
     "text": [
      "Train accuracy:  0.5947068779812279\n",
      "Test accuracy:  0.5975384615384616\n"
     ]
    }
   ],
   "source": [
    "xs = dec_fit(X_train1, y_train1, 'cap_color')\n",
    "y_ptr = dec_predict(X_train1, xs, 'cap_color')\n",
    "acc1 = 0\n",
    "for i in y_train1.index:\n",
    "    if y_ptr[i] == y_train1[i]:\n",
    "        acc1 += 1\n",
    "acc1 /= y_train1.size\n",
    "\n",
    "y_ptest = dec_predict(X_test1, xs, 'cap_color')\n",
    "acc2 = 0\n",
    "for i in y_test1.index:\n",
    "    if y_ptest[i] == y_test1[i]:\n",
    "        acc2 += 1\n",
    "acc2 /= y_test1.size\n",
    "\n",
    "print('Train accuracy: ', acc1)\n",
    "print('Test accuracy: ', acc2)"
   ]
  },
  {
   "cell_type": "markdown",
   "id": "7a2043d0",
   "metadata": {},
   "source": [
    "## Построение решающей функции для bruises и сравнение точности"
   ]
  },
  {
   "cell_type": "code",
   "execution_count": 17,
   "id": "2bfb9654",
   "metadata": {},
   "outputs": [
    {
     "name": "stdout",
     "output_type": "stream",
     "text": [
      "Train accuracy:  0.746268656716418\n",
      "Test accuracy:  0.7347692307692307\n"
     ]
    }
   ],
   "source": [
    "xs = dec_fit(X_train1, y_train1, 'bruises')\n",
    "y_ptr = dec_predict(X_train1, xs, 'bruises')\n",
    "acc1 = 0\n",
    "for i in y_train1.index:\n",
    "    if y_ptr[i] == y_train1[i]:\n",
    "        acc1 += 1\n",
    "acc1 /= y_train1.size\n",
    "\n",
    "y_ptest = dec_predict(X_test1, xs, 'bruises')\n",
    "acc2 = 0\n",
    "for i in y_test1.index:\n",
    "    if y_ptest[i] == y_test1[i]:\n",
    "        acc2 += 1\n",
    "acc2 /= y_test1.size\n",
    "\n",
    "print('Train accuracy: ', acc1)\n",
    "print('Test accuracy: ', acc2)"
   ]
  },
  {
   "cell_type": "markdown",
   "id": "cc21994b",
   "metadata": {},
   "source": [
    "## Построение решающей функции для odor и сравнение точности"
   ]
  },
  {
   "cell_type": "code",
   "execution_count": 18,
   "id": "d39ba531",
   "metadata": {},
   "outputs": [
    {
     "name": "stdout",
     "output_type": "stream",
     "text": [
      "Train accuracy:  0.9859978458224342\n",
      "Test accuracy:  0.9826060118343195\n"
     ]
    }
   ],
   "source": [
    "xs = dec_fit(X_train1, y_train1, 'odor')\n",
    "y_ptr = dec_predict(X_train1, xs, 'odor')\n",
    "acc1 = 0\n",
    "for i in y_train1.index:\n",
    "    if y_ptr[i] == y_train1[i]:\n",
    "        acc1 += 1\n",
    "acc1 /= y_train1.size\n",
    "\n",
    "y_ptest = dec_predict(X_test1, xs, 'odor')\n",
    "error2 = 0\n",
    "for i in y_test1.index:\n",
    "    if y_ptest[i] == y_test1[i]:\n",
    "        acc2 += 1\n",
    "acc2 /= y_test1.size\n",
    "\n",
    "print('Train accuracy: ', acc1)\n",
    "print('Test accuracy: ', acc2)"
   ]
  },
  {
   "cell_type": "markdown",
   "id": "0dc68f33",
   "metadata": {},
   "source": [
    "По разным переменным и при запусках на разных выборках точность может быть выше как на контрольной выборке, так и на обучающей выборке. Также можно заметить, что выбор класса по переменным cap_shape, cap_surface и cap_color близок к случайному, в то время как классификация по переменной odor наиболее точная. Значит, наиболее информативная переменная - odor.\n",
    "\n",
    "# Пункт 3\n",
    "## One hot encoding"
   ]
  },
  {
   "cell_type": "code",
   "execution_count": 19,
   "id": "773a6067",
   "metadata": {},
   "outputs": [
    {
     "data": {
      "text/html": [
       "<div>\n",
       "<style scoped>\n",
       "    .dataframe tbody tr th:only-of-type {\n",
       "        vertical-align: middle;\n",
       "    }\n",
       "\n",
       "    .dataframe tbody tr th {\n",
       "        vertical-align: top;\n",
       "    }\n",
       "\n",
       "    .dataframe thead th {\n",
       "        text-align: right;\n",
       "    }\n",
       "</style>\n",
       "<table border=\"1\" class=\"dataframe\">\n",
       "  <thead>\n",
       "    <tr style=\"text-align: right;\">\n",
       "      <th></th>\n",
       "      <th>cap_shape_b</th>\n",
       "      <th>cap_shape_c</th>\n",
       "      <th>cap_shape_f</th>\n",
       "      <th>cap_shape_k</th>\n",
       "      <th>cap_shape_s</th>\n",
       "      <th>cap_shape_x</th>\n",
       "      <th>cap_surface_f</th>\n",
       "      <th>cap_surface_g</th>\n",
       "      <th>cap_surface_s</th>\n",
       "      <th>cap_surface_y</th>\n",
       "      <th>...</th>\n",
       "      <th>bruises_t</th>\n",
       "      <th>odor_a</th>\n",
       "      <th>odor_c</th>\n",
       "      <th>odor_f</th>\n",
       "      <th>odor_l</th>\n",
       "      <th>odor_m</th>\n",
       "      <th>odor_n</th>\n",
       "      <th>odor_p</th>\n",
       "      <th>odor_s</th>\n",
       "      <th>odor_y</th>\n",
       "    </tr>\n",
       "  </thead>\n",
       "  <tbody>\n",
       "    <tr>\n",
       "      <th>8119</th>\n",
       "      <td>0</td>\n",
       "      <td>0</td>\n",
       "      <td>0</td>\n",
       "      <td>1</td>\n",
       "      <td>0</td>\n",
       "      <td>0</td>\n",
       "      <td>0</td>\n",
       "      <td>0</td>\n",
       "      <td>1</td>\n",
       "      <td>0</td>\n",
       "      <td>...</td>\n",
       "      <td>0</td>\n",
       "      <td>0</td>\n",
       "      <td>0</td>\n",
       "      <td>0</td>\n",
       "      <td>0</td>\n",
       "      <td>0</td>\n",
       "      <td>1</td>\n",
       "      <td>0</td>\n",
       "      <td>0</td>\n",
       "      <td>0</td>\n",
       "    </tr>\n",
       "    <tr>\n",
       "      <th>8120</th>\n",
       "      <td>0</td>\n",
       "      <td>0</td>\n",
       "      <td>0</td>\n",
       "      <td>0</td>\n",
       "      <td>0</td>\n",
       "      <td>1</td>\n",
       "      <td>0</td>\n",
       "      <td>0</td>\n",
       "      <td>1</td>\n",
       "      <td>0</td>\n",
       "      <td>...</td>\n",
       "      <td>0</td>\n",
       "      <td>0</td>\n",
       "      <td>0</td>\n",
       "      <td>0</td>\n",
       "      <td>0</td>\n",
       "      <td>0</td>\n",
       "      <td>1</td>\n",
       "      <td>0</td>\n",
       "      <td>0</td>\n",
       "      <td>0</td>\n",
       "    </tr>\n",
       "    <tr>\n",
       "      <th>8121</th>\n",
       "      <td>0</td>\n",
       "      <td>0</td>\n",
       "      <td>1</td>\n",
       "      <td>0</td>\n",
       "      <td>0</td>\n",
       "      <td>0</td>\n",
       "      <td>0</td>\n",
       "      <td>0</td>\n",
       "      <td>1</td>\n",
       "      <td>0</td>\n",
       "      <td>...</td>\n",
       "      <td>0</td>\n",
       "      <td>0</td>\n",
       "      <td>0</td>\n",
       "      <td>0</td>\n",
       "      <td>0</td>\n",
       "      <td>0</td>\n",
       "      <td>1</td>\n",
       "      <td>0</td>\n",
       "      <td>0</td>\n",
       "      <td>0</td>\n",
       "    </tr>\n",
       "    <tr>\n",
       "      <th>8122</th>\n",
       "      <td>0</td>\n",
       "      <td>0</td>\n",
       "      <td>0</td>\n",
       "      <td>1</td>\n",
       "      <td>0</td>\n",
       "      <td>0</td>\n",
       "      <td>0</td>\n",
       "      <td>0</td>\n",
       "      <td>0</td>\n",
       "      <td>1</td>\n",
       "      <td>...</td>\n",
       "      <td>0</td>\n",
       "      <td>0</td>\n",
       "      <td>0</td>\n",
       "      <td>0</td>\n",
       "      <td>0</td>\n",
       "      <td>0</td>\n",
       "      <td>0</td>\n",
       "      <td>0</td>\n",
       "      <td>0</td>\n",
       "      <td>1</td>\n",
       "    </tr>\n",
       "    <tr>\n",
       "      <th>8123</th>\n",
       "      <td>0</td>\n",
       "      <td>0</td>\n",
       "      <td>0</td>\n",
       "      <td>0</td>\n",
       "      <td>0</td>\n",
       "      <td>1</td>\n",
       "      <td>0</td>\n",
       "      <td>0</td>\n",
       "      <td>1</td>\n",
       "      <td>0</td>\n",
       "      <td>...</td>\n",
       "      <td>0</td>\n",
       "      <td>0</td>\n",
       "      <td>0</td>\n",
       "      <td>0</td>\n",
       "      <td>0</td>\n",
       "      <td>0</td>\n",
       "      <td>1</td>\n",
       "      <td>0</td>\n",
       "      <td>0</td>\n",
       "      <td>0</td>\n",
       "    </tr>\n",
       "  </tbody>\n",
       "</table>\n",
       "<p>5 rows × 31 columns</p>\n",
       "</div>"
      ],
      "text/plain": [
       "      cap_shape_b  cap_shape_c  cap_shape_f  cap_shape_k  cap_shape_s  \\\n",
       "8119            0            0            0            1            0   \n",
       "8120            0            0            0            0            0   \n",
       "8121            0            0            1            0            0   \n",
       "8122            0            0            0            1            0   \n",
       "8123            0            0            0            0            0   \n",
       "\n",
       "      cap_shape_x  cap_surface_f  cap_surface_g  cap_surface_s  cap_surface_y  \\\n",
       "8119            0              0              0              1              0   \n",
       "8120            1              0              0              1              0   \n",
       "8121            0              0              0              1              0   \n",
       "8122            0              0              0              0              1   \n",
       "8123            1              0              0              1              0   \n",
       "\n",
       "      ...  bruises_t  odor_a  odor_c  odor_f  odor_l  odor_m  odor_n  odor_p  \\\n",
       "8119  ...          0       0       0       0       0       0       1       0   \n",
       "8120  ...          0       0       0       0       0       0       1       0   \n",
       "8121  ...          0       0       0       0       0       0       1       0   \n",
       "8122  ...          0       0       0       0       0       0       0       0   \n",
       "8123  ...          0       0       0       0       0       0       1       0   \n",
       "\n",
       "      odor_s  odor_y  \n",
       "8119       0       0  \n",
       "8120       0       0  \n",
       "8121       0       0  \n",
       "8122       0       1  \n",
       "8123       0       0  \n",
       "\n",
       "[5 rows x 31 columns]"
      ]
     },
     "execution_count": 19,
     "metadata": {},
     "output_type": "execute_result"
    }
   ],
   "source": [
    "from sklearn.naive_bayes import BernoulliNB\n",
    "\n",
    "X_hot_enc = pd.get_dummies(X)\n",
    "y.replace('p', 0, inplace=True)\n",
    "y.replace('e', 1, inplace=True)\n",
    "X_hot_enc.tail()"
   ]
  },
  {
   "cell_type": "markdown",
   "id": "f58c9e4e",
   "metadata": {},
   "source": [
    "## \"Наивный\" байесовский классификатор"
   ]
  },
  {
   "cell_type": "code",
   "execution_count": 20,
   "id": "11a329d1",
   "metadata": {},
   "outputs": [
    {
     "name": "stdout",
     "output_type": "stream",
     "text": [
      "Accuracy:  0.9854751354012802\n",
      "Train accuracy:  0.9863055854746884\n",
      "Test accuracy:  0.9809230769230769\n"
     ]
    }
   ],
   "source": [
    "clf = BernoulliNB()\n",
    "X_he = X_hot_enc\n",
    "y_he = y\n",
    "clf.fit(X_he, y_he)\n",
    "y_pred = clf.predict(X_he)\n",
    "y_num = y.to_numpy()\n",
    "\n",
    "acc = 0\n",
    "for i in y.index:\n",
    "    if y_pred[i] == y_num[i]:\n",
    "        acc += 1\n",
    "acc /= y_num.size\n",
    "\n",
    "print('Accuracy: ', acc)\n",
    "\n",
    "X_train, X_test, y_train, y_test = train_test_split(X_hot_enc, y, test_size=0.2)\n",
    "\n",
    "X_train2, X_test2, y_train2, y_test2 = X_train, X_test, y_train, y_test\n",
    "\n",
    "clf.fit(X_train2, y_train2)\n",
    "y_pred_tr = clf.predict(X_train2)\n",
    "y_train_num = y_train.to_numpy()\n",
    "y_pred_test = clf.predict(X_test2)\n",
    "y_test_num = y_test.to_numpy()\n",
    "\n",
    "acc1 = 0\n",
    "for i in range(y_train.size):\n",
    "    if y_pred_tr[i] == y_train_num[i]:\n",
    "        acc1 += 1\n",
    "acc1 /= y_train.size\n",
    "\n",
    "acc2 = 0\n",
    "for i in range(y_test.size):\n",
    "    if y_pred_test[i] == y_test_num[i]:\n",
    "        acc2 += 1\n",
    "acc2 /= y_test.size\n",
    "\n",
    "print('Train accuracy: ', acc1)\n",
    "print('Test accuracy: ', acc2)"
   ]
  },
  {
   "cell_type": "markdown",
   "id": "e18f8988",
   "metadata": {},
   "source": [
    "# Пункт 4\n",
    "## Самостоятельная реализация метода"
   ]
  },
  {
   "cell_type": "code",
   "execution_count": 21,
   "id": "bb9498b9",
   "metadata": {},
   "outputs": [],
   "source": [
    "def naive_fit(X_train, y_train):\n",
    "    train = pd.concat((X_train, y_train), axis=1)\n",
    "    train_e = train[train['class'] == 1]\n",
    "    train_p = train[train['class'] == 0]\n",
    "    N = train.shape[0]\n",
    "    N1 = train_e.shape[0]\n",
    "    N2 = train_p.shape[0]\n",
    "    p1 = N1 / N\n",
    "    p2 = N2 / N\n",
    "    b0 = np.log(p1 / p2)\n",
    "    b = np.zeros_like(X_train.columns)\n",
    "    k = 0\n",
    "    \n",
    "    for param in X_train.columns:\n",
    "        pj = (len(train_e[train_e[param]== 1]) + 1) / (N1 + 2)\n",
    "        qj = (len(train_p[train_p[param]== 1]) + 1) / (N2 + 2)\n",
    "        b0 += np.log((1 - pj) / (1 - qj))\n",
    "        b[k] = np.log(pj * (1 - qj) / (qj * (1 - pj)))\n",
    "        k += 1\n",
    "\n",
    "    return b0, b\n",
    "\n",
    "def naive_predict(X, b0, b):\n",
    "    y_p = X.iloc[:, 0]\n",
    "    for ind in range(X.shape[0]):\n",
    "        x = X.iloc[ind].to_numpy()\n",
    "        if b.dot(x) + b0 >= 0:\n",
    "            y_p[ind] = 1\n",
    "        else:\n",
    "            y_p[ind] = 0\n",
    "    return y_p"
   ]
  },
  {
   "cell_type": "markdown",
   "id": "c529a85c",
   "metadata": {},
   "source": [
    "## Оценка решения и сравнение с библиотечным"
   ]
  },
  {
   "cell_type": "code",
   "execution_count": 22,
   "id": "7f73151d",
   "metadata": {},
   "outputs": [
    {
     "name": "stdout",
     "output_type": "stream",
     "text": [
      "Accuracy:  0.9854751354012802\n",
      "Train accuracy:  0.9863055854746884\n",
      "Test accuracy:  0.9809230769230769\n"
     ]
    }
   ],
   "source": [
    "b0, b = naive_fit(X_hot_enc, y)\n",
    "y_pred1 = naive_predict(X_hot_enc, b0, b)\n",
    "y_num = y.to_numpy()\n",
    "\n",
    "acc = 0\n",
    "for i in y.index:\n",
    "    if y_pred1[i] == y_num[i]:\n",
    "        acc += 1\n",
    "acc /= y_num.size\n",
    "\n",
    "print('Accuracy: ', acc)\n",
    "\n",
    "b01, b1 = naive_fit(X_train, y_train)\n",
    "y_pred_tr1 = naive_predict(X_train, b01, b1)\n",
    "y_pred_test1 = naive_predict(X_test, b01, b1)\n",
    "\n",
    "acc1 = 0\n",
    "for i in range(y_train_num.size):\n",
    "    if y_pred_tr1[i] == y_train_num[i]:\n",
    "        acc1 += 1\n",
    "acc1 /= y_train_num.size\n",
    "\n",
    "acc2 = 0\n",
    "for i in range(y_test_num.size):\n",
    "    if y_pred_test1[i] == y_test_num[i]:\n",
    "        acc2 += 1\n",
    "acc2 /= y_test_num.size\n",
    "\n",
    "print('Train accuracy: ', acc1)\n",
    "print('Test accuracy: ', acc2)"
   ]
  },
  {
   "cell_type": "markdown",
   "id": "acb2e78f",
   "metadata": {},
   "source": [
    "\"Наивный\" байесовский классификатор, реализованный в библиотеке sklearn, и классификатор, реализованный вручную, дают абсолютно одинаковые ответы.\n",
    "## Регуляризатор для оценок частот"
   ]
  },
  {
   "cell_type": "code",
   "execution_count": 23,
   "id": "38e7ac44",
   "metadata": {},
   "outputs": [],
   "source": [
    "def naive_fit_reg(X_train, y_train, l):\n",
    "    train = pd.concat((X_train, y_train), axis=1)\n",
    "    train_e = train[train['class'] == 1]\n",
    "    train_p = train[train['class'] == 0]\n",
    "    N = train.shape[0]\n",
    "    N1 = train_e.shape[0]\n",
    "    N2 = train_p.shape[0]\n",
    "    p1 = N1 / N\n",
    "    p2 = N2 / N\n",
    "    b0 = np.log(p1 / p2)\n",
    "    b = np.zeros_like(X_train.columns)\n",
    "    k = 0\n",
    "    \n",
    "    for param in X_train.columns:\n",
    "        pj = (len(train_e[train_e[param]== 1]) - 0.5 * l / N1 + 1) / (N1 + 2)\n",
    "        qj = (len(train_p[train_p[param]== 1]) + 0.5 * l / N2 + 1) / (N2 + 2)\n",
    "        b0 += np.log((1 - pj) / (1 - qj))\n",
    "        b[k] = np.log(pj * (1 - qj) / (qj * (1 - pj)))\n",
    "        k += 1\n",
    "    return b0, b"
   ]
  },
  {
   "cell_type": "markdown",
   "id": "7c73148a",
   "metadata": {},
   "source": [
    "## Сравнение результатов"
   ]
  },
  {
   "cell_type": "code",
   "execution_count": 24,
   "id": "556b1314",
   "metadata": {},
   "outputs": [
    {
     "name": "stdout",
     "output_type": "stream",
     "text": [
      "Accuracy:  0.9854751354012802\n",
      "Train accuracy:  0.9867671949530697\n",
      "Test accuracy:  0.9809230769230769\n"
     ]
    }
   ],
   "source": [
    "b02, b2 = naive_fit_reg(X_hot_enc, y, X_hot_enc.shape[0])\n",
    "y_pred1 = naive_predict(X_hot_enc, b02, b2)\n",
    "y_num = y.to_numpy()\n",
    "\n",
    "acc = 0\n",
    "for i in y.index:\n",
    "    if y_pred1[i] == y_num[i]:\n",
    "        acc += 1\n",
    "acc /= y_num.size\n",
    "\n",
    "print('Accuracy: ', acc)\n",
    "\n",
    "b03, b3 = naive_fit_reg(X_train, y_train, X_train.shape[0])\n",
    "y_pred_tr1 = naive_predict(X_train, b03, b3)\n",
    "y_pred_test1 = naive_predict(X_test, b03, b3)\n",
    "\n",
    "acc1 = 0\n",
    "for i in range(y_train_num.size):\n",
    "    if y_pred_tr1[i] == y_train_num[i]:\n",
    "        acc1 += 1\n",
    "acc1 /= y_train_num.size\n",
    "\n",
    "acc2 = 0\n",
    "for i in range(y_test_num.size):\n",
    "    if y_pred_test1[i] == y_test_num[i]:\n",
    "        acc2 += 1\n",
    "acc2 /= y_test_num.size\n",
    "\n",
    "print('Train accuracy: ', acc1)\n",
    "print('Test accuracy: ', acc2)"
   ]
  },
  {
   "cell_type": "markdown",
   "id": "7a6ea990",
   "metadata": {},
   "source": [
    "Если брать достаточно большое число для регуляризации (например, размер обучающей выборки), то точность немного повышается. Но ошибка классификации все еще остается больше 1%."
   ]
  }
 ],
 "metadata": {
  "kernelspec": {
   "display_name": "Python 3 (ipykernel)",
   "language": "python",
   "name": "python3"
  },
  "language_info": {
   "codemirror_mode": {
    "name": "ipython",
    "version": 3
   },
   "file_extension": ".py",
   "mimetype": "text/x-python",
   "name": "python",
   "nbconvert_exporter": "python",
   "pygments_lexer": "ipython3",
   "version": "3.10.8"
  }
 },
 "nbformat": 4,
 "nbformat_minor": 5
}
